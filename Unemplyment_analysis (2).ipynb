{
  "cells": [
    {
      "cell_type": "code",
      "execution_count": null,
      "id": "f31662cc",
      "metadata": {
        "id": "f31662cc"
      },
      "outputs": [],
      "source": [
        "import numpy as np\n",
        "import pandas as pd"
      ]
    },
    {
      "cell_type": "code",
      "execution_count": null,
      "id": "cb852fcb",
      "metadata": {
        "id": "cb852fcb"
      },
      "outputs": [],
      "source": [
        "data = pd.read_csv('Unemployment_Rate_upto_11_2020.csv')\n",
        "data"
      ]
    },
    {
      "cell_type": "code",
      "execution_count": null,
      "id": "d44aae68",
      "metadata": {
        "id": "d44aae68"
      },
      "outputs": [],
      "source": [
        "data.info()"
      ]
    },
    {
      "cell_type": "code",
      "execution_count": null,
      "id": "a01c06a6",
      "metadata": {
        "id": "a01c06a6"
      },
      "outputs": [],
      "source": [
        "data.describe()"
      ]
    },
    {
      "cell_type": "code",
      "execution_count": null,
      "id": "247432bb",
      "metadata": {
        "id": "247432bb"
      },
      "outputs": [],
      "source": [
        "#data_stats = data[['Estimated Unemployment Rate','Estimated Employed', 'Estimated Labour Participation Rate']]\n",
        "#round(data_stats.describe(),2)"
      ]
    },
    {
      "cell_type": "code",
      "execution_count": null,
      "id": "df0e21ac",
      "metadata": {
        "id": "df0e21ac"
      },
      "outputs": [],
      "source": [
        "data.isnull().sum()"
      ]
    },
    {
      "cell_type": "code",
      "execution_count": null,
      "id": "7b131791",
      "metadata": {
        "id": "7b131791"
      },
      "outputs": [],
      "source": [
        "data.columns= [\"States\",\"Date\",\"Frequency\",\n",
        "               \"Estimated Unemployment Rate\",\n",
        "               \"Estimated Employed\",\n",
        "               \"Estimated Labour Participation Rate\",\n",
        "               \"Region\",\"longitude\",\"latitude\"]"
      ]
    },
    {
      "cell_type": "code",
      "execution_count": null,
      "id": "fce7f67e",
      "metadata": {
        "id": "fce7f67e"
      },
      "outputs": [],
      "source": [
        "region_stats = data.groupby(['Region'])[['Estimated Unemployment Rate','Estimated Employed','Estimated Labour Participation Rate']].mean().reset_index()\n",
        "region_stats = round(region_stats,2)\n",
        "region_stats"
      ]
    },
    {
      "cell_type": "code",
      "execution_count": null,
      "id": "9b05e056",
      "metadata": {
        "id": "9b05e056"
      },
      "outputs": [],
      "source": [
        "import matplotlib.pyplot as plt\n",
        "import seaborn as sns\n",
        "sns.heatmap(data.corr())\n",
        "plt.show()"
      ]
    },
    {
      "cell_type": "code",
      "execution_count": null,
      "id": "871c6cea",
      "metadata": {
        "id": "871c6cea"
      },
      "outputs": [],
      "source": [
        "heat_maps = data.corr()\n",
        "plt.figure(figsize=(10,6))\n",
        "sns.set_context('notebook',font_scale=1)\n",
        "sns.heatmap(heat_maps, annot=True,cmap='summer');"
      ]
    },
    {
      "cell_type": "code",
      "execution_count": null,
      "id": "b3e80142",
      "metadata": {
        "id": "b3e80142"
      },
      "outputs": [],
      "source": [
        "plt.title(\"Estimates Employed by Region\")\n",
        "x=region_stats.iloc[:,0]\n",
        "y=region_stats.iloc[:,2]\n",
        "plt.bar(x,y)\n",
        "plt.show()\n"
      ]
    },
    {
      "cell_type": "code",
      "execution_count": null,
      "id": "0c532810",
      "metadata": {
        "id": "0c532810"
      },
      "outputs": [],
      "source": [
        "#plt.figure(figsize=(12, 10))\n",
        "#lt.title(\"Indian Unemployment\")\n",
        "#sns.histplot(x=\"Estimated Unemployment Rate\", hue=\"Region\", data=data)\n",
        "#plt.show()"
      ]
    },
    {
      "cell_type": "code",
      "execution_count": null,
      "id": "db14203b",
      "metadata": {
        "id": "db14203b"
      },
      "outputs": [],
      "source": [
        "import seaborn as sns\n",
        "import plotly.express as px"
      ]
    },
    {
      "cell_type": "code",
      "execution_count": null,
      "id": "3e544c9f",
      "metadata": {
        "id": "3e544c9f"
      },
      "outputs": [],
      "source": [
        "unemploment = data[[\"States\", \"Region\", \"Estimated Unemployment Rate\"]]\n",
        "figure = px.sunburst(unemploment, path=[\"Region\", \"States\"],\n",
        "                     values=\"Estimated Unemployment Rate\",\n",
        "                     width=700, height=700, color_continuous_scale=\"RdY1Gn\",\n",
        "                     title=\"Unemployment Rate in India\")\n",
        "figure.show()"
      ]
    },
    {
      "cell_type": "code",
      "execution_count": null,
      "id": "76bdd541",
      "metadata": {
        "scrolled": false,
        "id": "76bdd541"
      },
      "outputs": [],
      "source": [
        "plot_ump = data[['Estimated Unemployment Rate','States']]\n",
        "df_unemp = plot_ump.groupby('States').mean().reset_index()\n",
        "df_unemp = df_unemp.sort_values('Estimated Unemployment Rate')\n",
        "fig = px.bar(df_unemp, x='States',y='Estimated Unemployment Rate',color='States',\n",
        "            title='Average Unemployment Rate in each state',template='plotly')\n",
        "\n",
        "fig.show()"
      ]
    },
    {
      "cell_type": "code",
      "execution_count": null,
      "id": "e784ef1d",
      "metadata": {
        "id": "e784ef1d"
      },
      "outputs": [],
      "source": [
        "# import seaborn as sns\n",
        "# import matplotlib.pyplot as plt\n",
        "# color = sns.color_palette()\n",
        "# group_df = data[['Estimated Unemployment Rate','States']]\n",
        "# grouped_df = group_df.groupby(['States'])[\"Estimated Unemployment Rate\"].aggregate(\"mean\").reset_index()\n",
        "# plt.figure(figsize=(12,8))\n",
        "# sns.pointplot(grouped_df['States'].values, grouped_df['Estimated Unemployment Rate'].values, alpha=0.8, color=color[3])\n",
        "# plt.ylabel('Mean rate', fontsize=12)\n",
        "# plt.xlabel('States', fontsize=12)\n",
        "# plt.title(\"Average of mean\", fontsize=15)\n",
        "# plt.xticks(rotation='vertical')\n",
        "# plt.show()"
      ]
    },
    {
      "cell_type": "code",
      "execution_count": null,
      "id": "a35d9900",
      "metadata": {
        "id": "a35d9900"
      },
      "outputs": [],
      "source": [
        "gdp_data = pd.read_csv('gdp.csv')\n",
        "gdp_data=gdp_data.drop(['Rank','Unnamed: 3'],axis=1)\n",
        "gdp_data"
      ]
    },
    {
      "cell_type": "code",
      "execution_count": null,
      "id": "191c37d2",
      "metadata": {
        "id": "191c37d2"
      },
      "outputs": [],
      "source": [
        "gdp_data.info()"
      ]
    },
    {
      "cell_type": "code",
      "execution_count": null,
      "id": "543b4490",
      "metadata": {
        "id": "543b4490"
      },
      "outputs": [],
      "source": [
        "gdp_data.describe()"
      ]
    },
    {
      "cell_type": "code",
      "execution_count": null,
      "id": "29a35449",
      "metadata": {
        "id": "29a35449"
      },
      "outputs": [],
      "source": [
        "State = gdp_data.iloc[:,0]\n",
        "Gdp = gdp_data.iloc[:,1]\n",
        "df = pd.DataFrame({\"State\":State,\"Gdp\":Gdp})\n",
        "df"
      ]
    },
    {
      "cell_type": "code",
      "execution_count": null,
      "id": "92d9a5fd",
      "metadata": {
        "id": "92d9a5fd"
      },
      "outputs": [],
      "source": [
        "sns.barplot(x='State',y=\"Gdp\",data=df)"
      ]
    },
    {
      "cell_type": "code",
      "execution_count": null,
      "id": "b5d49c6e",
      "metadata": {
        "id": "b5d49c6e"
      },
      "outputs": [],
      "source": [
        "plt_gdp = gdp_data[['State',\"Gdp\"]]\n",
        "fig = px.bar(plt_gdp,x=\"State\",y=\"Gdp\")\n",
        "fig.show()"
      ]
    },
    {
      "cell_type": "code",
      "execution_count": null,
      "id": "16bb201a",
      "metadata": {
        "id": "16bb201a"
      },
      "outputs": [],
      "source": [
        "import seaborn as sns\n",
        "group_df = gdp_data[['Gdp',\"State\"]]\n",
        "grouped_df = group_df.groupby(['State'])[\"Gdp\"].aggregate(\"mean\").reset_index()\n",
        "plt.figure(figsize=(12,8))\n",
        "sns.pointplot(grouped_df['Gdp'].values, grouped_df['State'].values, alpha=0.8, color=color[2])\n",
        "plt.ylabel('GDP', fontsize=12)\n",
        "plt.xlabel('States', fontsize=12)\n",
        "plt.title(\"Average of GDP\", fontsize=15)\n",
        "plt.xticks(rotation='horizontal')\n",
        "plt.show()"
      ]
    },
    {
      "cell_type": "code",
      "execution_count": null,
      "id": "5c7495b3",
      "metadata": {
        "id": "5c7495b3"
      },
      "outputs": [],
      "source": [
        "gdp = gdp_data[[\"State\",\"Gdp\"]]\n",
        "figure = px.sunburst(gdp, path=[\"State\"],\n",
        "                     values=\"Gdp\",\n",
        "                     width=700, height=700, color_continuous_scale=\"RdY1Gn\",\n",
        "                     title=\"GDP of India\")\n",
        "figure.show()"
      ]
    },
    {
      "cell_type": "code",
      "execution_count": null,
      "id": "ca1afaf3",
      "metadata": {
        "id": "ca1afaf3"
      },
      "outputs": [],
      "source": [
        "plot_ump = data[['Estimated Unemployment Rate','States']]\n",
        "df_unemp = plot_ump.groupby('States').mean().reset_index()\n",
        "df_unemp = df_unemp.sort_values('Estimated Unemployment Rate')\n",
        "fig = px.bar(df_unemp, x='States',y='Estimated Unemployment Rate',color='States',\n",
        "            title='Average Unemployment Rate in each state',template='plotly')\n",
        "\n",
        "fig.show()\n",
        "\n",
        "plt_gdp = gdp_data[['State',\"Gdp\"]]\n",
        "fig = px.bar(plt_gdp,x=\"State\",y=\"Gdp\",title=\"GDP in each state\")\n",
        "fig.show()"
      ]
    }
  ],
  "metadata": {
    "kernelspec": {
      "display_name": "Python 3 (ipykernel)",
      "language": "python",
      "name": "python3"
    },
    "language_info": {
      "codemirror_mode": {
        "name": "ipython",
        "version": 3
      },
      "file_extension": ".py",
      "mimetype": "text/x-python",
      "name": "python",
      "nbconvert_exporter": "python",
      "pygments_lexer": "ipython3",
      "version": "3.9.5"
    },
    "colab": {
      "provenance": []
    }
  },
  "nbformat": 4,
  "nbformat_minor": 5
}